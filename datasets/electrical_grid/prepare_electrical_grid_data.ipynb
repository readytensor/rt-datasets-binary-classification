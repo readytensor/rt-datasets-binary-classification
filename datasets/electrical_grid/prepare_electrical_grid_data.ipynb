{
 "cells": [
  {
   "cell_type": "code",
   "execution_count": 1,
   "id": "692de854",
   "metadata": {},
   "outputs": [],
   "source": [
    "import numpy as np\n",
    "import pandas as pd\n",
    "import os\n",
    "import json\n",
    "import pprint"
   ]
  },
  {
   "cell_type": "code",
   "execution_count": 2,
   "id": "a20bab0b",
   "metadata": {},
   "outputs": [],
   "source": [
    "dataset_name = 'electrical_grid'"
   ]
  },
  {
   "cell_type": "code",
   "execution_count": 3,
   "id": "e5994fbf",
   "metadata": {},
   "outputs": [],
   "source": [
    "input_dir = './raw'\n",
    "output_dir = './processed'\n",
    "\n",
    "inp_fname = 'electrical_grid.csv'\n",
    "\n",
    "outp_fname = os.path.join(output_dir, f'{dataset_name}.csv')\n",
    "outp_train_fname = os.path.join(output_dir, f'{dataset_name}_train.csv')\n",
    "outp_test_fname = os.path.join(output_dir, f'{dataset_name}_test.csv')\n",
    "outp_test_key_fname = os.path.join(output_dir, f'{dataset_name}_test_key.csv')\n",
    "outp_infer_instances = os.path.join(output_dir, f'{dataset_name}_infer_req.json')"
   ]
  },
  {
   "cell_type": "markdown",
   "id": "a6290e1d",
   "metadata": {},
   "source": [
    "# Read Data"
   ]
  },
  {
   "cell_type": "code",
   "execution_count": 4,
   "id": "2ae3115f",
   "metadata": {},
   "outputs": [
    {
     "data": {
      "text/html": [
       "<div>\n",
       "<style scoped>\n",
       "    .dataframe tbody tr th:only-of-type {\n",
       "        vertical-align: middle;\n",
       "    }\n",
       "\n",
       "    .dataframe tbody tr th {\n",
       "        vertical-align: top;\n",
       "    }\n",
       "\n",
       "    .dataframe thead th {\n",
       "        text-align: right;\n",
       "    }\n",
       "</style>\n",
       "<table border=\"1\" class=\"dataframe\">\n",
       "  <thead>\n",
       "    <tr style=\"text-align: right;\">\n",
       "      <th></th>\n",
       "      <th>tau1</th>\n",
       "      <th>tau2</th>\n",
       "      <th>tau3</th>\n",
       "      <th>tau4</th>\n",
       "      <th>p1</th>\n",
       "      <th>p2</th>\n",
       "      <th>p3</th>\n",
       "      <th>p4</th>\n",
       "      <th>g1</th>\n",
       "      <th>g2</th>\n",
       "      <th>g3</th>\n",
       "      <th>g4</th>\n",
       "      <th>stabf</th>\n",
       "    </tr>\n",
       "  </thead>\n",
       "  <tbody>\n",
       "    <tr>\n",
       "      <th>0</th>\n",
       "      <td>2.959060</td>\n",
       "      <td>3.079885</td>\n",
       "      <td>8.381025</td>\n",
       "      <td>9.780754</td>\n",
       "      <td>3.763085</td>\n",
       "      <td>-0.782604</td>\n",
       "      <td>-1.257395</td>\n",
       "      <td>-1.723086</td>\n",
       "      <td>0.650456</td>\n",
       "      <td>0.859578</td>\n",
       "      <td>0.887445</td>\n",
       "      <td>0.958034</td>\n",
       "      <td>unstable</td>\n",
       "    </tr>\n",
       "    <tr>\n",
       "      <th>1</th>\n",
       "      <td>9.304097</td>\n",
       "      <td>4.902524</td>\n",
       "      <td>3.047541</td>\n",
       "      <td>1.369357</td>\n",
       "      <td>5.067812</td>\n",
       "      <td>-1.940058</td>\n",
       "      <td>-1.872742</td>\n",
       "      <td>-1.255012</td>\n",
       "      <td>0.413441</td>\n",
       "      <td>0.862414</td>\n",
       "      <td>0.562139</td>\n",
       "      <td>0.781760</td>\n",
       "      <td>stable</td>\n",
       "    </tr>\n",
       "    <tr>\n",
       "      <th>2</th>\n",
       "      <td>8.971707</td>\n",
       "      <td>8.848428</td>\n",
       "      <td>3.046479</td>\n",
       "      <td>1.214518</td>\n",
       "      <td>3.405158</td>\n",
       "      <td>-1.207456</td>\n",
       "      <td>-1.277210</td>\n",
       "      <td>-0.920492</td>\n",
       "      <td>0.163041</td>\n",
       "      <td>0.766689</td>\n",
       "      <td>0.839444</td>\n",
       "      <td>0.109853</td>\n",
       "      <td>unstable</td>\n",
       "    </tr>\n",
       "    <tr>\n",
       "      <th>3</th>\n",
       "      <td>0.716415</td>\n",
       "      <td>7.669600</td>\n",
       "      <td>4.486641</td>\n",
       "      <td>2.340563</td>\n",
       "      <td>3.963791</td>\n",
       "      <td>-1.027473</td>\n",
       "      <td>-1.938944</td>\n",
       "      <td>-0.997374</td>\n",
       "      <td>0.446209</td>\n",
       "      <td>0.976744</td>\n",
       "      <td>0.929381</td>\n",
       "      <td>0.362718</td>\n",
       "      <td>unstable</td>\n",
       "    </tr>\n",
       "    <tr>\n",
       "      <th>4</th>\n",
       "      <td>3.134112</td>\n",
       "      <td>7.608772</td>\n",
       "      <td>4.943759</td>\n",
       "      <td>9.857573</td>\n",
       "      <td>3.525811</td>\n",
       "      <td>-1.125531</td>\n",
       "      <td>-1.845975</td>\n",
       "      <td>-0.554305</td>\n",
       "      <td>0.797110</td>\n",
       "      <td>0.455450</td>\n",
       "      <td>0.656947</td>\n",
       "      <td>0.820923</td>\n",
       "      <td>unstable</td>\n",
       "    </tr>\n",
       "  </tbody>\n",
       "</table>\n",
       "</div>"
      ],
      "text/plain": [
       "       tau1      tau2      tau3      tau4        p1        p2        p3  \\\n",
       "0  2.959060  3.079885  8.381025  9.780754  3.763085 -0.782604 -1.257395   \n",
       "1  9.304097  4.902524  3.047541  1.369357  5.067812 -1.940058 -1.872742   \n",
       "2  8.971707  8.848428  3.046479  1.214518  3.405158 -1.207456 -1.277210   \n",
       "3  0.716415  7.669600  4.486641  2.340563  3.963791 -1.027473 -1.938944   \n",
       "4  3.134112  7.608772  4.943759  9.857573  3.525811 -1.125531 -1.845975   \n",
       "\n",
       "         p4        g1        g2        g3        g4     stabf  \n",
       "0 -1.723086  0.650456  0.859578  0.887445  0.958034  unstable  \n",
       "1 -1.255012  0.413441  0.862414  0.562139  0.781760    stable  \n",
       "2 -0.920492  0.163041  0.766689  0.839444  0.109853  unstable  \n",
       "3 -0.997374  0.446209  0.976744  0.929381  0.362718  unstable  \n",
       "4 -0.554305  0.797110  0.455450  0.656947  0.820923  unstable  "
      ]
     },
     "execution_count": 4,
     "metadata": {},
     "output_type": "execute_result"
    }
   ],
   "source": [
    "data = pd.read_csv(os.path.join(input_dir, inp_fname))\n",
    "data.head()"
   ]
  },
  {
   "cell_type": "code",
   "execution_count": 5,
   "id": "91daee4a",
   "metadata": {},
   "outputs": [],
   "source": [
    "id_col = \"id\"\n",
    "target_col = \"stabf\""
   ]
  },
  {
   "cell_type": "markdown",
   "id": "72caf3bb",
   "metadata": {},
   "source": [
    "# Shuffle Data"
   ]
  },
  {
   "cell_type": "code",
   "execution_count": 6,
   "id": "3338f805",
   "metadata": {},
   "outputs": [
    {
     "data": {
      "text/html": [
       "<div>\n",
       "<style scoped>\n",
       "    .dataframe tbody tr th:only-of-type {\n",
       "        vertical-align: middle;\n",
       "    }\n",
       "\n",
       "    .dataframe tbody tr th {\n",
       "        vertical-align: top;\n",
       "    }\n",
       "\n",
       "    .dataframe thead th {\n",
       "        text-align: right;\n",
       "    }\n",
       "</style>\n",
       "<table border=\"1\" class=\"dataframe\">\n",
       "  <thead>\n",
       "    <tr style=\"text-align: right;\">\n",
       "      <th></th>\n",
       "      <th>tau1</th>\n",
       "      <th>tau2</th>\n",
       "      <th>tau3</th>\n",
       "      <th>tau4</th>\n",
       "      <th>p1</th>\n",
       "      <th>p2</th>\n",
       "      <th>p3</th>\n",
       "      <th>p4</th>\n",
       "      <th>g1</th>\n",
       "      <th>g2</th>\n",
       "      <th>g3</th>\n",
       "      <th>g4</th>\n",
       "      <th>stabf</th>\n",
       "    </tr>\n",
       "  </thead>\n",
       "  <tbody>\n",
       "    <tr>\n",
       "      <th>6252</th>\n",
       "      <td>1.953136</td>\n",
       "      <td>9.692422</td>\n",
       "      <td>6.570391</td>\n",
       "      <td>7.737644</td>\n",
       "      <td>5.128952</td>\n",
       "      <td>-1.860248</td>\n",
       "      <td>-1.380687</td>\n",
       "      <td>-1.888018</td>\n",
       "      <td>0.487235</td>\n",
       "      <td>0.934229</td>\n",
       "      <td>0.433606</td>\n",
       "      <td>0.328522</td>\n",
       "      <td>unstable</td>\n",
       "    </tr>\n",
       "    <tr>\n",
       "      <th>4684</th>\n",
       "      <td>4.613690</td>\n",
       "      <td>9.423079</td>\n",
       "      <td>1.424423</td>\n",
       "      <td>7.372338</td>\n",
       "      <td>4.655631</td>\n",
       "      <td>-1.716394</td>\n",
       "      <td>-1.182286</td>\n",
       "      <td>-1.756951</td>\n",
       "      <td>0.395106</td>\n",
       "      <td>0.772211</td>\n",
       "      <td>0.911199</td>\n",
       "      <td>0.328193</td>\n",
       "      <td>unstable</td>\n",
       "    </tr>\n",
       "    <tr>\n",
       "      <th>1731</th>\n",
       "      <td>2.738001</td>\n",
       "      <td>1.341172</td>\n",
       "      <td>7.986504</td>\n",
       "      <td>9.842747</td>\n",
       "      <td>5.007610</td>\n",
       "      <td>-1.275363</td>\n",
       "      <td>-1.877241</td>\n",
       "      <td>-1.855006</td>\n",
       "      <td>0.162310</td>\n",
       "      <td>0.175994</td>\n",
       "      <td>0.897505</td>\n",
       "      <td>0.601356</td>\n",
       "      <td>unstable</td>\n",
       "    </tr>\n",
       "    <tr>\n",
       "      <th>4742</th>\n",
       "      <td>2.006512</td>\n",
       "      <td>2.311770</td>\n",
       "      <td>4.410704</td>\n",
       "      <td>2.726592</td>\n",
       "      <td>4.396237</td>\n",
       "      <td>-1.532751</td>\n",
       "      <td>-1.327943</td>\n",
       "      <td>-1.535543</td>\n",
       "      <td>0.053894</td>\n",
       "      <td>0.573440</td>\n",
       "      <td>0.061032</td>\n",
       "      <td>0.775629</td>\n",
       "      <td>stable</td>\n",
       "    </tr>\n",
       "    <tr>\n",
       "      <th>4521</th>\n",
       "      <td>3.993497</td>\n",
       "      <td>3.742481</td>\n",
       "      <td>8.975171</td>\n",
       "      <td>1.182813</td>\n",
       "      <td>2.875057</td>\n",
       "      <td>-1.170108</td>\n",
       "      <td>-1.117862</td>\n",
       "      <td>-0.587086</td>\n",
       "      <td>0.100005</td>\n",
       "      <td>0.753533</td>\n",
       "      <td>0.437366</td>\n",
       "      <td>0.611471</td>\n",
       "      <td>stable</td>\n",
       "    </tr>\n",
       "  </tbody>\n",
       "</table>\n",
       "</div>"
      ],
      "text/plain": [
       "          tau1      tau2      tau3      tau4        p1        p2        p3  \\\n",
       "6252  1.953136  9.692422  6.570391  7.737644  5.128952 -1.860248 -1.380687   \n",
       "4684  4.613690  9.423079  1.424423  7.372338  4.655631 -1.716394 -1.182286   \n",
       "1731  2.738001  1.341172  7.986504  9.842747  5.007610 -1.275363 -1.877241   \n",
       "4742  2.006512  2.311770  4.410704  2.726592  4.396237 -1.532751 -1.327943   \n",
       "4521  3.993497  3.742481  8.975171  1.182813  2.875057 -1.170108 -1.117862   \n",
       "\n",
       "            p4        g1        g2        g3        g4     stabf  \n",
       "6252 -1.888018  0.487235  0.934229  0.433606  0.328522  unstable  \n",
       "4684 -1.756951  0.395106  0.772211  0.911199  0.328193  unstable  \n",
       "1731 -1.855006  0.162310  0.175994  0.897505  0.601356  unstable  \n",
       "4742 -1.535543  0.053894  0.573440  0.061032  0.775629    stable  \n",
       "4521 -0.587086  0.100005  0.753533  0.437366  0.611471    stable  "
      ]
     },
     "execution_count": 6,
     "metadata": {},
     "output_type": "execute_result"
    }
   ],
   "source": [
    "# shuffle data\n",
    "data = data.sample(frac=1, random_state=42)\n",
    "data.head()"
   ]
  },
  {
   "cell_type": "markdown",
   "id": "6d59e5ee",
   "metadata": {},
   "source": [
    "# Insert Id Column"
   ]
  },
  {
   "cell_type": "code",
   "execution_count": 7,
   "id": "e0dcc5eb",
   "metadata": {},
   "outputs": [
    {
     "name": "stdout",
     "output_type": "stream",
     "text": [
      "      id      tau1      tau2      tau3      tau4        p1        p2  \\\n",
      "6252   0  1.953136  9.692422  6.570391  7.737644  5.128952 -1.860248   \n",
      "4684   1  4.613690  9.423079  1.424423  7.372338  4.655631 -1.716394   \n",
      "1731   2  2.738001  1.341172  7.986504  9.842747  5.007610 -1.275363   \n",
      "4742   3  2.006512  2.311770  4.410704  2.726592  4.396237 -1.532751   \n",
      "4521   4  3.993497  3.742481  8.975171  1.182813  2.875057 -1.170108   \n",
      "\n",
      "            p3        p4        g1        g2        g3        g4     stabf  \n",
      "6252 -1.380687 -1.888018  0.487235  0.934229  0.433606  0.328522  unstable  \n",
      "4684 -1.182286 -1.756951  0.395106  0.772211  0.911199  0.328193  unstable  \n",
      "1731 -1.877241 -1.855006  0.162310  0.175994  0.897505  0.601356  unstable  \n",
      "4742 -1.327943 -1.535543  0.053894  0.573440  0.061032  0.775629    stable  \n",
      "4521 -1.117862 -0.587086  0.100005  0.753533  0.437366  0.611471    stable  \n"
     ]
    }
   ],
   "source": [
    "# insert Id column \n",
    "if id_col not in data.columns:\n",
    "    N = data.shape[0]\n",
    "    data.insert(0, id_col, np.arange(N))\n",
    "    print(data.head())\n",
    "\n",
    "data[id_col] = data[id_col].astype(str)"
   ]
  },
  {
   "cell_type": "markdown",
   "id": "eee0d52f",
   "metadata": {},
   "source": [
    "# Save Main Data File"
   ]
  },
  {
   "cell_type": "code",
   "execution_count": 8,
   "id": "5ab3560e",
   "metadata": {},
   "outputs": [],
   "source": [
    "data.to_csv(outp_fname, index=False)"
   ]
  },
  {
   "cell_type": "markdown",
   "id": "2ae71a5d",
   "metadata": {},
   "source": [
    "# Train Test Split"
   ]
  },
  {
   "cell_type": "code",
   "execution_count": 9,
   "id": "a92b9c31",
   "metadata": {},
   "outputs": [
    {
     "name": "stdout",
     "output_type": "stream",
     "text": [
      "(9000, 14) (1000, 14)\n"
     ]
    }
   ],
   "source": [
    "from sklearn.model_selection import train_test_split\n",
    "test_size = 0.1\n",
    "\n",
    "data_train, data_test = train_test_split(data, test_size=test_size, random_state=42)\n",
    "print(data_train.shape, data_test.shape)\n",
    "\n",
    "data_train.to_csv(outp_train_fname, index=False)\n",
    "data_test.drop(columns=[target_col]).to_csv(outp_test_fname, index=False)\n",
    "data_test[[id_col, target_col]].to_csv(outp_test_key_fname, index=False)"
   ]
  },
  {
   "cell_type": "markdown",
   "id": "098d75e6",
   "metadata": {},
   "source": [
    "# JSON inference request instance"
   ]
  },
  {
   "cell_type": "code",
   "execution_count": 10,
   "id": "f2ce68a5",
   "metadata": {},
   "outputs": [
    {
     "name": "stdout",
     "output_type": "stream",
     "text": [
      "{'instances': [{'g1': 0.124902737,\n",
      "                'g2': 0.86646372,\n",
      "                'g3': 0.135315907,\n",
      "                'g4': 0.078401342,\n",
      "                'id': '6252',\n",
      "                'p1': 3.925026138,\n",
      "                'p2': -1.096750364,\n",
      "                'p3': -1.080586212,\n",
      "                'p4': -1.747689562,\n",
      "                'tau1': 4.348282297,\n",
      "                'tau2': 3.932069895,\n",
      "                'tau3': 4.24333351,\n",
      "                'tau4': 7.213924232}]}\n"
     ]
    }
   ],
   "source": [
    "instance = data_test.replace({np.nan:None}).drop(columns=[target_col]).reset_index(drop=True).loc[0].to_dict()\n",
    "infer_req_instance_dict = {  \"instances\": [ {**instance}, ] }\n",
    "pprint.pprint(infer_req_instance_dict)\n",
    "   \n",
    "with open(outp_infer_instances, 'w', encoding='utf8') as f:\n",
    "    json.dump(infer_req_instance_dict, f, indent=2, ensure_ascii=False)"
   ]
  },
  {
   "cell_type": "code",
   "execution_count": null,
   "id": "7def18c0",
   "metadata": {},
   "outputs": [],
   "source": []
  }
 ],
 "metadata": {
  "kernelspec": {
   "display_name": "Python 3 (ipykernel)",
   "language": "python",
   "name": "python3"
  },
  "language_info": {
   "codemirror_mode": {
    "name": "ipython",
    "version": 3
   },
   "file_extension": ".py",
   "mimetype": "text/x-python",
   "name": "python",
   "nbconvert_exporter": "python",
   "pygments_lexer": "ipython3",
   "version": "3.9.7"
  }
 },
 "nbformat": 4,
 "nbformat_minor": 5
}
